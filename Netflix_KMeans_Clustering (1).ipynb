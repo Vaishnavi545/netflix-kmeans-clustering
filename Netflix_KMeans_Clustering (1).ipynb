{
  "nbformat": 4,
  "nbformat_minor": 0,
  "metadata": {
    "colab": {
      "private_outputs": true,
      "provenance": []
    },
    "kernelspec": {
      "name": "python3",
      "display_name": "Python 3"
    },
    "language_info": {
      "name": "python"
    }
  },
  "cells": [
    {
      "cell_type": "code",
      "execution_count": null,
      "metadata": {
        "id": "udxigGC0ujSp"
      },
      "outputs": [],
      "source": [
        "!pip install pandas scikit-learn seaborn matplotlib\n"
      ]
    },
    {
      "cell_type": "code",
      "source": [
        "from google.colab import files\n",
        "\n",
        "uploaded = files.upload()\n"
      ],
      "metadata": {
        "id": "LGzmL_d5uyxa"
      },
      "execution_count": null,
      "outputs": []
    },
    {
      "cell_type": "code",
      "source": [
        "import pandas as pd\n",
        "\n",
        "df = pd.read_csv('netflix_titles.csv')\n",
        "\n",
        "df.head()\n"
      ],
      "metadata": {
        "id": "dkU4dyrEu-ER"
      },
      "execution_count": null,
      "outputs": []
    },
    {
      "cell_type": "code",
      "source": [
        "\n",
        "df = df[['type', 'title', 'listed_in', 'duration', 'rating']]\n",
        "\n",
        "df.dropna(inplace=True)\n",
        "\n",
        "\n",
        "df = df[df['type'] == 'Movie']\n",
        "\n",
        "df['duration'] = df['duration'].str.extract('(\\d+)').astype(float)\n",
        "\n",
        "df['main_genre'] = df['listed_in'].apply(lambda x: x.split(',')[0].strip())\n",
        "\n",
        "df.head()\n"
      ],
      "metadata": {
        "id": "4NTItNXgvDWQ"
      },
      "execution_count": null,
      "outputs": []
    },
    {
      "cell_type": "code",
      "source": [
        "# One-Hot Encode the main_genre column\n",
        "genre_dummies = pd.get_dummies(df['main_genre'])\n",
        "\n",
        "# Combine genre, duration, and rating into one DataFrame\n",
        "features = pd.concat([genre_dummies, df[['duration']]], axis=1)\n",
        "\n",
        "# Check the result\n",
        "features.head()\n"
      ],
      "metadata": {
        "id": "kz06igQkvTGX"
      },
      "execution_count": null,
      "outputs": []
    },
    {
      "cell_type": "code",
      "source": [
        "from sklearn.cluster import KMeans\n",
        "\n",
        "\n",
        "kmeans = KMeans(n_clusters=5, random_state=42)\n",
        "\n",
        "kmeans.fit(features)\n",
        "\n",
        "\n",
        "df['Cluster'] = kmeans.labels_\n",
        "\n",
        "df[['title', 'main_genre', 'duration', 'Cluster']].head()\n"
      ],
      "metadata": {
        "id": "l4pObJV-vd02"
      },
      "execution_count": null,
      "outputs": []
    },
    {
      "cell_type": "code",
      "source": [
        "import seaborn as sns\n",
        "import matplotlib.pyplot as plt\n",
        "\n",
        "plt.figure(figsize=(12, 6))\n",
        "\n",
        "# Plot using seaborn\n",
        "sns.scatterplot(\n",
        "    x='duration',\n",
        "    y='main_genre',\n",
        "    hue='Cluster',\n",
        "    data=df,\n",
        "    palette='Set2',\n",
        "    s=100,\n",
        "    alpha=0.7\n",
        ")\n",
        "\n",
        "plt.title(\"Clustering of Netflix Movies by Genre and Duration\", fontsize=14)\n",
        "plt.xlabel(\"Duration (minutes)\")\n",
        "plt.ylabel(\"Main Genre\")\n",
        "plt.legend(title='Cluster')\n",
        "plt.grid(True)\n",
        "plt.show()\n"
      ],
      "metadata": {
        "id": "EcOogHNKvliT"
      },
      "execution_count": null,
      "outputs": []
    },
    {
      "cell_type": "code",
      "source": [
        "#I used the Elbow Method to find the optimal number of clusters. The point where the WCSS curve bends ('elbow') is the ideal number of clusters\n",
        "wcss = []\n",
        "from sklearn.cluster import KMeans\n",
        "\n",
        "\n",
        "for i in range(1, 11):\n",
        "    kmeans = KMeans(n_clusters=i, random_state=42)\n",
        "    kmeans.fit(features)\n",
        "    wcss.append(kmeans.inertia_)\n",
        "\n",
        "# Plot the Elbow graph\n",
        "import matplotlib.pyplot as plt\n",
        "\n",
        "plt.figure(figsize=(8, 4))\n",
        "plt.plot(range(1, 11), wcss, marker='o', color='blue')\n",
        "plt.title('Elbow Method - Optimal Number of Clusters')\n",
        "plt.xlabel('Number of Clusters (k)')\n",
        "plt.ylabel('WCSS (Within Cluster Sum of Squares)')\n",
        "plt.grid(True)\n",
        "plt.show()\n"
      ],
      "metadata": {
        "id": "ppT4g6BuwPO6"
      },
      "execution_count": null,
      "outputs": []
    },
    {
      "cell_type": "code",
      "source": [
        "#This gives insights into each cluster — e.g., Cluster 0 mostly contains Comedy movies under 90 mins\n",
        "# Group by Cluster and get average duration and movie count\n",
        "cluster_summary = df.groupby('Cluster').agg({\n",
        "    'title': 'count',\n",
        "    'duration': 'mean',\n",
        "    'main_genre': lambda x: x.value_counts().index[0]\n",
        "}).rename(columns={\n",
        "    'title': 'Movie Count',\n",
        "    'duration': 'Avg Duration (min)',\n",
        "    'main_genre': 'Most Common Genre'\n",
        "})\n",
        "\n",
        "cluster_summary\n"
      ],
      "metadata": {
        "id": "RX-h94ZgwTdC"
      },
      "execution_count": null,
      "outputs": []
    },
    {
      "cell_type": "code",
      "source": [
        "#Cluster 2 contains short Action films. A few examples include...\n",
        "df[df['Cluster'] == 2][['title', 'main_genre', 'duration']].head(10)\n"
      ],
      "metadata": {
        "id": "lx_9Q5lexPJT"
      },
      "execution_count": null,
      "outputs": []
    }
  ]
}